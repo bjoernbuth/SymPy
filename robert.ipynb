{
 "cells": [
  {
   "cell_type": "markdown",
   "id": "6d86b5bf",
   "metadata": {},
   "source": [
    "# Transferaufgabe (mit anderen Zahlen)"
   ]
  },
  {
   "cell_type": "markdown",
   "id": "1ca60364",
   "metadata": {},
   "source": [
    "Monopolist M verkauf das Produkt P zu einem Preis von 30 GE. Für diesen Preis\n",
    "verkauft er 80 ME von P. In einer Rabattaktion senkt er den Preis auf 10 GE und \n",
    "verkauft 160 ME. Die Kostenfunktion ist\n",
    "$$ K(x) = x^2 -32x+10$$\n",
    "- a: Bestimmen Sie die lineare Preis Absatz Funktion  x = a+bp  (p = Preis)\n",
    "      und die Gewinnfunktion des Unternehmes. \n",
    "- b: Bei welcher Menge x liegt das Gewinnmaximum"
   ]
  },
  {
   "cell_type": "code",
   "execution_count": null,
   "id": "4a90f0e2",
   "metadata": {},
   "outputs": [],
   "source": []
  },
  {
   "cell_type": "code",
   "execution_count": 9,
   "id": "d9286da0",
   "metadata": {},
   "outputs": [],
   "source": [
    "import sympy as sp\n",
    "import numpy as np\n",
    "\n",
    "x, y, z, t = sp.symbols('x y z t')\n",
    "f = sp.symbols('f g h', cls=sp.Function)\n",
    "\n",
    "## Kostenfunktion\n",
    "K = sp.symbols('f g h', cls=sp.Function)\n",
    "\n",
    "## Preis als Funktion der Menge\n",
    "p = sp.symbols('f g h', cls=sp.Function)"
   ]
  },
  {
   "cell_type": "code",
   "execution_count": null,
   "id": "ed269d42",
   "metadata": {},
   "outputs": [],
   "source": [
    "# x = sp.Symbol(\"x\")\n",
    "# y = sp.Symbol(\"y\")\n",
    "# z = sp.Symbol(\"z\")\n",
    "\n",
    "# k, m, n = symbols('k m n', integer=True)\n",
    "# f, g, h = symbols('f g h', cls=Function)"
   ]
  },
  {
   "cell_type": "code",
   "execution_count": 88,
   "id": "11c35532",
   "metadata": {},
   "outputs": [
    {
     "data": {
      "text/latex": [
       "$\\displaystyle x^{2} - 32 x + 10$"
      ],
      "text/plain": [
       "x**2 - 32*x + 10"
      ]
     },
     "execution_count": 88,
     "metadata": {},
     "output_type": "execute_result"
    }
   ],
   "source": [
    "K=x**2-32*x+10\n",
    "K"
   ]
  },
  {
   "cell_type": "code",
   "execution_count": 89,
   "id": "cbd010c6",
   "metadata": {},
   "outputs": [
    {
     "data": {
      "text/latex": [
       "$\\displaystyle 200 - 4 x$"
      ],
      "text/plain": [
       "200 - 4*x"
      ]
     },
     "execution_count": 89,
     "metadata": {},
     "output_type": "execute_result"
    }
   ],
   "source": [
    "p=-4*x+200\n",
    "sp.expand(p)"
   ]
  },
  {
   "cell_type": "code",
   "execution_count": 90,
   "id": "2386de01",
   "metadata": {},
   "outputs": [
    {
     "data": {
      "text/latex": [
       "$\\displaystyle - x^{2} + x \\left(200 - 4 x\\right) + 32 x - 10$"
      ],
      "text/plain": [
       "-x**2 + x*(200 - 4*x) + 32*x - 10"
      ]
     },
     "execution_count": 90,
     "metadata": {},
     "output_type": "execute_result"
    }
   ],
   "source": [
    "G = x*p-K\n",
    "G"
   ]
  },
  {
   "cell_type": "code",
   "execution_count": 91,
   "id": "2abbc760",
   "metadata": {},
   "outputs": [
    {
     "data": {
      "text/latex": [
       "$\\displaystyle - 5 x^{2} + 232 x - 10$"
      ],
      "text/plain": [
       "-5*x**2 + 232*x - 10"
      ]
     },
     "execution_count": 91,
     "metadata": {},
     "output_type": "execute_result"
    }
   ],
   "source": [
    "sp.expand(G)"
   ]
  },
  {
   "cell_type": "code",
   "execution_count": 92,
   "id": "dcea8848",
   "metadata": {},
   "outputs": [
    {
     "data": {
      "text/latex": [
       "$\\displaystyle 80$"
      ],
      "text/plain": [
       "80"
      ]
     },
     "execution_count": 92,
     "metadata": {},
     "output_type": "execute_result"
    }
   ],
   "source": [
    "p.subs(x,30)"
   ]
  },
  {
   "cell_type": "code",
   "execution_count": 93,
   "id": "0fa9b7a4",
   "metadata": {},
   "outputs": [
    {
     "data": {
      "text/latex": [
       "$\\displaystyle 160$"
      ],
      "text/plain": [
       "160"
      ]
     },
     "execution_count": 93,
     "metadata": {},
     "output_type": "execute_result"
    }
   ],
   "source": [
    "p.subs(x,10)"
   ]
  },
  {
   "cell_type": "markdown",
   "id": "f21ef3f4",
   "metadata": {},
   "source": [
    "# Aufgabe 5"
   ]
  },
  {
   "cell_type": "code",
   "execution_count": 10,
   "id": "6e372606",
   "metadata": {},
   "outputs": [],
   "source": [
    "## Aufgabe 5\n",
    "import math"
   ]
  },
  {
   "cell_type": "code",
   "execution_count": 11,
   "id": "53c58492",
   "metadata": {},
   "outputs": [
    {
     "data": {
      "text/plain": [
       "49000.00300414603"
      ]
     },
     "execution_count": 11,
     "metadata": {},
     "output_type": "execute_result"
    }
   ],
   "source": [
    "# ai)\n",
    "\n",
    "res = ((55179.31 / 1.025**2) / 1.02**2) / 1.015**2\n",
    "res"
   ]
  },
  {
   "cell_type": "code",
   "execution_count": 14,
   "id": "e0a60d07",
   "metadata": {},
   "outputs": [
    {
     "data": {
      "text/plain": [
       "1.0199908853596653"
      ]
     },
     "execution_count": 14,
     "metadata": {},
     "output_type": "execute_result"
    }
   ],
   "source": [
    "## aii)\n",
    "\n",
    "(55179/49000)**(1/6)"
   ]
  },
  {
   "cell_type": "code",
   "execution_count": null,
   "id": "368901ca",
   "metadata": {},
   "outputs": [],
   "source": []
  },
  {
   "cell_type": "markdown",
   "id": "bd56bdc2",
   "metadata": {},
   "source": [
    "https://de.wikipedia.org/wiki/Annuit%C3%A4tendarlehen"
   ]
  },
  {
   "cell_type": "markdown",
   "id": "4e22462e",
   "metadata": {},
   "source": [
    "- R : jährliche Annuität\n",
    "- S_0: Kredisumme\n",
    "- i : Zinssaz  und q=1+i wie üblich\n",
    "- n: Laufzeit"
   ]
  },
  {
   "cell_type": "markdown",
   "id": "33f74b5f",
   "metadata": {},
   "source": [
    "$$ R=S_{0}\\cdot {\\frac  {(1+i)^{n}\\cdot i}{(1+i)^{n}-1}}=S_{0}\\cdot {\\frac  {q^{n}\\cdot i}{q^{n}-1}} $$"
   ]
  },
  {
   "cell_type": "markdown",
   "id": "4caa2dc3",
   "metadata": {},
   "source": [
    "Restschuld nach t Perioden\n",
    "\n",
    "$$ S_{t}=S_{0}\\cdot {\\frac  {q^{n}-q^{t}}{q^{n}-1}} $$"
   ]
  },
  {
   "cell_type": "code",
   "execution_count": 17,
   "id": "6c5c7654",
   "metadata": {},
   "outputs": [],
   "source": [
    "i = 0.05\n",
    "q = 1 + i\n",
    "n = 20\n",
    "S_0 = 100_000"
   ]
  },
  {
   "cell_type": "code",
   "execution_count": 21,
   "id": "ad24bc04",
   "metadata": {},
   "outputs": [
    {
     "data": {
      "text/plain": [
       "1.0244030783669801e-15"
      ]
     },
     "execution_count": 21,
     "metadata": {},
     "output_type": "execute_result"
    }
   ],
   "source": [
    "## Restschuld nach 10 Jahren mit der Formel\n",
    "\n",
    "t = 10\n",
    "S_10 = S_0 * (q**n - q**t) / (t**n - 1)\n",
    "S_10"
   ]
  },
  {
   "cell_type": "code",
   "execution_count": null,
   "id": "f153a05b",
   "metadata": {},
   "outputs": [],
   "source": []
  },
  {
   "cell_type": "code",
   "execution_count": null,
   "id": "a7455eec",
   "metadata": {},
   "outputs": [],
   "source": [
    "-----------------------------------------"
   ]
  },
  {
   "cell_type": "code",
   "execution_count": null,
   "id": "86d996b5",
   "metadata": {},
   "outputs": [],
   "source": [
    "Variante:\n"
   ]
  },
  {
   "cell_type": "code",
   "execution_count": null,
   "id": "249f2c27",
   "metadata": {},
   "outputs": [],
   "source": [
    "# Zuwachsparen:\n",
    "    \n",
    "# Zinsen: Jahre \n",
    "#         1 und 2  :   1.2 %\n",
    "#         3 und 4  :   2.4 %\n",
    "#         5 und 6  :   3.0 %\n",
    " \n",
    "        \n",
    "            "
   ]
  },
  {
   "cell_type": "code",
   "execution_count": null,
   "id": "42d96aac",
   "metadata": {},
   "outputs": [],
   "source": [
    "Betrag nach 6 Jahren :  115737.66\n",
    "    \n",
    "- Wie hoch war der Ausgangsbetrag\n",
    "- Wie hoch  war der durchschnittliche Zinsatz"
   ]
  },
  {
   "cell_type": "code",
   "execution_count": null,
   "id": "08de1fda",
   "metadata": {},
   "outputs": [],
   "source": []
  },
  {
   "cell_type": "code",
   "execution_count": null,
   "id": "d210bec5",
   "metadata": {},
   "outputs": [],
   "source": []
  },
  {
   "cell_type": "code",
   "execution_count": 25,
   "id": "6387e02d",
   "metadata": {},
   "outputs": [
    {
     "data": {
      "text/plain": [
       "115737.66232473598"
      ]
     },
     "execution_count": 25,
     "metadata": {},
     "output_type": "execute_result"
    }
   ],
   "source": [
    "100_000 * 1.02**2 * 1.024**2 * 1.03**2"
   ]
  }
 ],
 "metadata": {
  "kernelspec": {
   "display_name": "Python 3 (ipykernel)",
   "language": "python",
   "name": "python3"
  },
  "language_info": {
   "codemirror_mode": {
    "name": "ipython",
    "version": 3
   },
   "file_extension": ".py",
   "mimetype": "text/x-python",
   "name": "python",
   "nbconvert_exporter": "python",
   "pygments_lexer": "ipython3",
   "version": "3.9.7"
  },
  "toc": {
   "base_numbering": 1,
   "nav_menu": {},
   "number_sections": false,
   "sideBar": true,
   "skip_h1_title": false,
   "title_cell": "Table of Contents",
   "title_sidebar": "Contents",
   "toc_cell": false,
   "toc_position": {
    "height": "calc(100% - 180px)",
    "left": "10px",
    "top": "150px",
    "width": "164.999px"
   },
   "toc_section_display": true,
   "toc_window_display": true
  },
  "toc-autonumbering": false,
  "varInspector": {
   "cols": {
    "lenName": 16,
    "lenType": 16,
    "lenVar": 40
   },
   "kernels_config": {
    "python": {
     "delete_cmd_postfix": "",
     "delete_cmd_prefix": "del ",
     "library": "var_list.py",
     "varRefreshCmd": "print(var_dic_list())"
    },
    "r": {
     "delete_cmd_postfix": ") ",
     "delete_cmd_prefix": "rm(",
     "library": "var_list.r",
     "varRefreshCmd": "cat(var_dic_list()) "
    }
   },
   "types_to_exclude": [
    "module",
    "function",
    "builtin_function_or_method",
    "instance",
    "_Feature"
   ],
   "window_display": false
  }
 },
 "nbformat": 4,
 "nbformat_minor": 5
}
